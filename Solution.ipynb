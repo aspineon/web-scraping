{
 "cells": [
  {
   "cell_type": "markdown",
   "metadata": {},
   "source": [
    "# Web Scraping with Python"
   ]
  },
  {
   "cell_type": "code",
   "execution_count": 5,
   "metadata": {},
   "outputs": [],
   "source": [
    "from bs4 import BeautifulSoup\n",
    "import requests\n",
    "import pandas as pd\n",
    "from IPython.display import display"
   ]
  },
  {
   "cell_type": "markdown",
   "metadata": {},
   "source": [
    "What we are scraping can be found here:\n",
    "\n",
    "https://mafudge.github.io/web-scraping/\n"
   ]
  },
  {
   "cell_type": "markdown",
   "metadata": {},
   "source": [
    "## Reading an HTML table\n",
    "\n",
    "Is trivial, thanks to Pandas. The read_html method returns a list of all tables on the page."
   ]
  },
  {
   "cell_type": "code",
   "execution_count": 6,
   "metadata": {},
   "outputs": [
    {
     "data": {
      "text/html": [
       "<div>\n",
       "<style scoped>\n",
       "    .dataframe tbody tr th:only-of-type {\n",
       "        vertical-align: middle;\n",
       "    }\n",
       "\n",
       "    .dataframe tbody tr th {\n",
       "        vertical-align: top;\n",
       "    }\n",
       "\n",
       "    .dataframe thead th {\n",
       "        text-align: right;\n",
       "    }\n",
       "</style>\n",
       "<table border=\"1\" class=\"dataframe\">\n",
       "  <thead>\n",
       "    <tr style=\"text-align: right;\">\n",
       "      <th></th>\n",
       "      <th>Name</th>\n",
       "      <th>Email</th>\n",
       "      <th>Department</th>\n",
       "    </tr>\n",
       "  </thead>\n",
       "  <tbody>\n",
       "    <tr>\n",
       "      <th>0</th>\n",
       "      <td>Barb Barion</td>\n",
       "      <td>bbarion@fudgemart.com</td>\n",
       "      <td>Customer Service</td>\n",
       "    </tr>\n",
       "    <tr>\n",
       "      <th>1</th>\n",
       "      <td>Al Fresco</td>\n",
       "      <td>afresco@fudgemart.com</td>\n",
       "      <td>Housewares</td>\n",
       "    </tr>\n",
       "    <tr>\n",
       "      <th>2</th>\n",
       "      <td>Bob Enweave</td>\n",
       "      <td>benweave@fudgemart.com</td>\n",
       "      <td>Housewares</td>\n",
       "    </tr>\n",
       "    <tr>\n",
       "      <th>3</th>\n",
       "      <td>Carrie Dababbi</td>\n",
       "      <td>cdababbi@fudgemart.com</td>\n",
       "      <td>Electronics</td>\n",
       "    </tr>\n",
       "    <tr>\n",
       "      <th>4</th>\n",
       "      <td>Rowan Debote</td>\n",
       "      <td>rdebote@fudgemart.com</td>\n",
       "      <td>Customer Service</td>\n",
       "    </tr>\n",
       "    <tr>\n",
       "      <th>5</th>\n",
       "      <td>Sandi Shores</td>\n",
       "      <td>sshores@fudgemart.com</td>\n",
       "      <td>Customer Service</td>\n",
       "    </tr>\n",
       "  </tbody>\n",
       "</table>\n",
       "</div>"
      ],
      "text/plain": [
       "             Name                   Email        Department\n",
       "0     Barb Barion   bbarion@fudgemart.com  Customer Service\n",
       "1       Al Fresco   afresco@fudgemart.com        Housewares\n",
       "2     Bob Enweave  benweave@fudgemart.com        Housewares\n",
       "3  Carrie Dababbi  cdababbi@fudgemart.com       Electronics\n",
       "4    Rowan Debote   rdebote@fudgemart.com  Customer Service\n",
       "5    Sandi Shores   sshores@fudgemart.com  Customer Service"
      ]
     },
     "metadata": {},
     "output_type": "display_data"
    }
   ],
   "source": [
    "# Table read example\n",
    "tables = pd.read_html(\"https://mafudge.github.io/web-scraping/emptable.html\")\n",
    "table = tables[0] # read_html returns a list of all tables on the page.\n",
    "display(table)"
   ]
  },
  {
   "cell_type": "markdown",
   "metadata": {},
   "source": [
    "## Read JSON Data \n",
    "\n",
    "Is also trivial... Thanks to Pandas!"
   ]
  },
  {
   "cell_type": "code",
   "execution_count": 7,
   "metadata": {},
   "outputs": [
    {
     "data": {
      "text/html": [
       "<div>\n",
       "<style scoped>\n",
       "    .dataframe tbody tr th:only-of-type {\n",
       "        vertical-align: middle;\n",
       "    }\n",
       "\n",
       "    .dataframe tbody tr th {\n",
       "        vertical-align: top;\n",
       "    }\n",
       "\n",
       "    .dataframe thead th {\n",
       "        text-align: right;\n",
       "    }\n",
       "</style>\n",
       "<table border=\"1\" class=\"dataframe\">\n",
       "  <thead>\n",
       "    <tr style=\"text-align: right;\">\n",
       "      <th></th>\n",
       "      <th>Department</th>\n",
       "      <th>Email</th>\n",
       "      <th>Name</th>\n",
       "    </tr>\n",
       "  </thead>\n",
       "  <tbody>\n",
       "    <tr>\n",
       "      <th>0</th>\n",
       "      <td>Customer Service</td>\n",
       "      <td>bbarion@fudgemart.com</td>\n",
       "      <td>Barb Barion</td>\n",
       "    </tr>\n",
       "    <tr>\n",
       "      <th>1</th>\n",
       "      <td>Housewares</td>\n",
       "      <td>afresco@fudgemart.com</td>\n",
       "      <td>Al Fresco</td>\n",
       "    </tr>\n",
       "    <tr>\n",
       "      <th>2</th>\n",
       "      <td>Housewares</td>\n",
       "      <td>benweave@fudgemart.com</td>\n",
       "      <td>Bob Enweave</td>\n",
       "    </tr>\n",
       "    <tr>\n",
       "      <th>3</th>\n",
       "      <td>Electronics</td>\n",
       "      <td>cdababbi@fudgemart.com</td>\n",
       "      <td>Carrie Dababbi</td>\n",
       "    </tr>\n",
       "    <tr>\n",
       "      <th>4</th>\n",
       "      <td>Customer Service</td>\n",
       "      <td>rdebote@fudgemart.com</td>\n",
       "      <td>Rowan Debote</td>\n",
       "    </tr>\n",
       "    <tr>\n",
       "      <th>5</th>\n",
       "      <td>Customer Service</td>\n",
       "      <td>sshores@fudgemart.com</td>\n",
       "      <td>Sandi Shores</td>\n",
       "    </tr>\n",
       "  </tbody>\n",
       "</table>\n",
       "</div>"
      ],
      "text/plain": [
       "         Department                   Email            Name\n",
       "0  Customer Service   bbarion@fudgemart.com     Barb Barion\n",
       "1        Housewares   afresco@fudgemart.com       Al Fresco\n",
       "2        Housewares  benweave@fudgemart.com     Bob Enweave\n",
       "3       Electronics  cdababbi@fudgemart.com  Carrie Dababbi\n",
       "4  Customer Service   rdebote@fudgemart.com    Rowan Debote\n",
       "5  Customer Service   sshores@fudgemart.com    Sandi Shores"
      ]
     },
     "metadata": {},
     "output_type": "display_data"
    }
   ],
   "source": [
    "# Read JSON example\n",
    "data = pd.read_json(\"https://mafudge.github.io/web-scraping/empjson.json\")\n",
    "display(data)"
   ]
  },
  {
   "cell_type": "markdown",
   "metadata": {},
   "source": [
    "## Web Scraping Data \n",
    "\n",
    "Is a bit more involved because we must use Python logic to get the structure off the page\n",
    "\n",
    "The document we are scraping is here: https://mafudge.github.io/web-scraping/empweb.html\n",
    "\n",
    "You can't scrape without the knowing the HTML structure. When the HTML changes, we must re-write our code. This is why an API is always preferable to scraping. Web scraping is a method of last resort!"
   ]
  },
  {
   "cell_type": "code",
   "execution_count": 61,
   "metadata": {},
   "outputs": [
    {
     "name": "stdout",
     "output_type": "stream",
     "text": [
      "<!DOCTYPE html>\n",
      "<html lang=\"en-US\">\n",
      "<head>\n",
      "<meta charset=\"utf-8\"/>\n",
      "<meta content=\"IE=edge\" http-equiv=\"X-UA-Compatible\"/>\n",
      "<meta content=\"width=device-width, initial-scale=1\" name=\"viewport\"/>\n",
      "<!-- Beg\n"
     ]
    }
   ],
   "source": [
    "# first we request the contents of the page and send them to Beautiful Soup\n",
    "response = requests.get(\"https://mafudge.github.io/web-scraping/empweb.html\")\n",
    "soup = BeautifulSoup(response.text, \"lxml\")\n",
    "print(str(soup)[:200]) # there's a lot, so only print the first 200 chars"
   ]
  },
  {
   "cell_type": "code",
   "execution_count": 62,
   "metadata": {},
   "outputs": [
    {
     "name": "stdout",
     "output_type": "stream",
     "text": [
      "Customer Service\n",
      "Housewares\n",
      "Electronics\n",
      "[<h3 id=\"customer-service\">Customer Service</h3>, <h3 id=\"housewares\">Housewares</h3>, <h3 id=\"electronics\">Electronics</h3>]\n"
     ]
    }
   ],
   "source": [
    "# let's get some departments, which are in <h3> tags:\n",
    "for h3_tag in soup.select(\"h3\"):\n",
    "    print(h3_tag.text)\n",
    "    \n",
    "# select() searches the html for that tag, returning a list\n",
    "print(soup.select(\"h3\"))"
   ]
  },
  {
   "cell_type": "code",
   "execution_count": 29,
   "metadata": {},
   "outputs": [
    {
     "name": "stdout",
     "output_type": "stream",
     "text": [
      "Barb Barion\n",
      "Rowan Debote\n",
      "Sandi Shores\n",
      "Al Fresco\n",
      "Bob Enweave\n",
      "Carrie Dababbi\n",
      "[<li><a href=\"mailto:bbarion@fudgemart.com\">Barb Barion</a></li>, <li><a href=\"mailto:rdebote@fudgemart.com\">Rowan Debote</a></li>, <li><a href=\"mailto:sshores@fudgemart.com\">Sandi Shores</a></li>, <li><a href=\"mailto:afresco@fudgemart.com\">Al Fresco</a></li>, <li><a href=\"mailto:benweave@fudgemart.com\">Bob Enweave</a></li>, <li><a href=\"mailto:cdababbi@fudgemart.com\">Carrie Dababbi</a></li>]\n"
     ]
    }
   ],
   "source": [
    "# the employees are in li tags:\n",
    "for li_tag in soup.select(\"li\"):\n",
    "    print(li_tag.text)\n",
    "    \n",
    "print(soup.select(\"li\"))"
   ]
  },
  {
   "cell_type": "code",
   "execution_count": 33,
   "metadata": {},
   "outputs": [
    {
     "name": "stdout",
     "output_type": "stream",
     "text": [
      "Name: Barb Barion Department: Customer Service\n",
      "Name: Rowan Debote Department: Customer Service\n",
      "Name: Sandi Shores Department: Customer Service\n",
      "Name: Al Fresco Department: Housewares\n",
      "Name: Bob Enweave Department: Housewares\n",
      "Name: Carrie Dababbi Department: Electronics\n"
     ]
    }
   ],
   "source": [
    "# how do you associate the employee with their department?\n",
    "# the tags are nested, and so must code be!\n",
    "h3_tags = soup.select(\"h3\") #get the departments as a list \n",
    "tag_index =0\n",
    "for ul_tag in soup.select(\"ul\"):\n",
    "    for li_tag in ul_tag.select(\"li\"):\n",
    "        print(\"Name: {0} Department: {1}\".format(\n",
    "            li_tag.text, \n",
    "            h3_tags[tag_index].text)\n",
    "             )\n",
    "    tag_index+=1 "
   ]
  },
  {
   "cell_type": "code",
   "execution_count": 48,
   "metadata": {},
   "outputs": [
    {
     "name": "stdout",
     "output_type": "stream",
     "text": [
      "Entire list item =======>  <li><a href=\"mailto:cdababbi@fudgemart.com\">Carrie Dababbi</a></li>\n",
      "Anchor (a) Tag inside ==>  <a href=\"mailto:cdababbi@fudgemart.com\">Carrie Dababbi</a>\n",
      "Href attribute in (a) ==>  mailto:cdababbi@fudgemart.com\n",
      "Strip out :mailto ======>  cdababbi@fudgemart.com\n"
     ]
    }
   ],
   "source": [
    "#how do we extract the email? Well that's part of the a href\n",
    "print(\"Entire list item =======> \", li_tag)\n",
    "print(\"Anchor (a) Tag inside ==> \", li_tag.select_one(\"a\")) # do not return a list in this case\n",
    "print(\"Href attribute in (a) ==> \", li_tag.select_one(\"a\")[\"href\"]) #dictionary key\n",
    "print(\"Strip out :mailto ======> \", li_tag.select_one(\"a\")[\"href\"].replace(\"mailto:\",\"\"))\n"
   ]
  },
  {
   "cell_type": "code",
   "execution_count": 53,
   "metadata": {},
   "outputs": [
    {
     "name": "stdout",
     "output_type": "stream",
     "text": [
      "cdababbi@fudgemart.com\n"
     ]
    }
   ],
   "source": [
    "# so much logic here, belongs in its own function for readability\n",
    "def get_email_from_li(tag):\n",
    "    return tag.select_one(\"a\")[\"href\"].replace(\"mailto:\",\"\")\n",
    "\n",
    "# testing\n",
    "print(get_email_from_li(li_tag))"
   ]
  },
  {
   "cell_type": "code",
   "execution_count": 56,
   "metadata": {},
   "outputs": [
    {
     "name": "stdout",
     "output_type": "stream",
     "text": [
      "Name: Barb Barion Department: Customer Service Email: bbarion@fudgemart.com\n",
      "Name: Rowan Debote Department: Customer Service Email: rdebote@fudgemart.com\n",
      "Name: Sandi Shores Department: Customer Service Email: sshores@fudgemart.com\n",
      "Name: Al Fresco Department: Housewares Email: afresco@fudgemart.com\n",
      "Name: Bob Enweave Department: Housewares Email: benweave@fudgemart.com\n",
      "Name: Carrie Dababbi Department: Electronics Email: cdababbi@fudgemart.com\n"
     ]
    }
   ],
   "source": [
    "# And now we write the entire scrape as:\n",
    "h3_tags = soup.select(\"h3\") \n",
    "tag_index =0\n",
    "for ul_tag in soup.select(\"ul\"):\n",
    "    for li_tag in ul_tag.select(\"li\"):\n",
    "        print(\"Name: {0} Department: {1} Email: {2}\".format(\n",
    "            li_tag.text, \n",
    "            h3_tags[tag_index].text,\n",
    "            get_email_from_li(li_tag))\n",
    "             )\n",
    "    tag_index+=1 "
   ]
  },
  {
   "cell_type": "code",
   "execution_count": 57,
   "metadata": {},
   "outputs": [
    {
     "data": {
      "text/html": [
       "<div>\n",
       "<style scoped>\n",
       "    .dataframe tbody tr th:only-of-type {\n",
       "        vertical-align: middle;\n",
       "    }\n",
       "\n",
       "    .dataframe tbody tr th {\n",
       "        vertical-align: top;\n",
       "    }\n",
       "\n",
       "    .dataframe thead th {\n",
       "        text-align: right;\n",
       "    }\n",
       "</style>\n",
       "<table border=\"1\" class=\"dataframe\">\n",
       "  <thead>\n",
       "    <tr style=\"text-align: right;\">\n",
       "      <th></th>\n",
       "      <th>Department</th>\n",
       "      <th>Email</th>\n",
       "      <th>Name</th>\n",
       "    </tr>\n",
       "  </thead>\n",
       "  <tbody>\n",
       "    <tr>\n",
       "      <th>0</th>\n",
       "      <td>Customer Service</td>\n",
       "      <td>bbarion@fudgemart.com</td>\n",
       "      <td>Barb Barion</td>\n",
       "    </tr>\n",
       "    <tr>\n",
       "      <th>1</th>\n",
       "      <td>Customer Service</td>\n",
       "      <td>rdebote@fudgemart.com</td>\n",
       "      <td>Rowan Debote</td>\n",
       "    </tr>\n",
       "    <tr>\n",
       "      <th>2</th>\n",
       "      <td>Customer Service</td>\n",
       "      <td>sshores@fudgemart.com</td>\n",
       "      <td>Sandi Shores</td>\n",
       "    </tr>\n",
       "    <tr>\n",
       "      <th>3</th>\n",
       "      <td>Housewares</td>\n",
       "      <td>afresco@fudgemart.com</td>\n",
       "      <td>Al Fresco</td>\n",
       "    </tr>\n",
       "    <tr>\n",
       "      <th>4</th>\n",
       "      <td>Housewares</td>\n",
       "      <td>benweave@fudgemart.com</td>\n",
       "      <td>Bob Enweave</td>\n",
       "    </tr>\n",
       "    <tr>\n",
       "      <th>5</th>\n",
       "      <td>Electronics</td>\n",
       "      <td>cdababbi@fudgemart.com</td>\n",
       "      <td>Carrie Dababbi</td>\n",
       "    </tr>\n",
       "  </tbody>\n",
       "</table>\n",
       "</div>"
      ],
      "text/plain": [
       "         Department                   Email            Name\n",
       "0  Customer Service   bbarion@fudgemart.com     Barb Barion\n",
       "1  Customer Service   rdebote@fudgemart.com    Rowan Debote\n",
       "2  Customer Service   sshores@fudgemart.com    Sandi Shores\n",
       "3        Housewares   afresco@fudgemart.com       Al Fresco\n",
       "4        Housewares  benweave@fudgemart.com     Bob Enweave\n",
       "5       Electronics  cdababbi@fudgemart.com  Carrie Dababbi"
      ]
     },
     "metadata": {},
     "output_type": "display_data"
    }
   ],
   "source": [
    "# list of dictionary is more workable than printing, of course\n",
    "employees = []\n",
    "h3_tags = soup.select(\"h3\") \n",
    "tag_index =0\n",
    "for ul_tag in soup.select(\"ul\"):\n",
    "    for li_tag in ul_tag.select(\"li\"):\n",
    "        # build a dictionary\n",
    "        employee = { \n",
    "            \"Name\" : li_tag.text, \n",
    "            \"Department\" : h3_tags[tag_index].text,\n",
    "            \"Email\" : get_email_from_li(li_tag)\n",
    "        }\n",
    "        # add to the list\n",
    "        employees.append(employee)\n",
    "    tag_index+=1 \n",
    "    \n",
    "data = pd.DataFrame(employees)\n",
    "display(data)"
   ]
  },
  {
   "cell_type": "code",
   "execution_count": 59,
   "metadata": {},
   "outputs": [],
   "source": [
    "# how about writing this as a function to return a python list of dictionary\n",
    "def scrape_fudgemart_employees():\n",
    "    response = requests.get(\"https://mafudge.github.io/web-scraping/empweb.html\")\n",
    "    soup = BeautifulSoup(response.text, \"lxml\")\n",
    "    employees = []\n",
    "    h3_tags = soup.select(\"h3\") \n",
    "    tag_index =0\n",
    "    for ul_tag in soup.select(\"ul\"):\n",
    "        for li_tag in ul_tag.select(\"li\"):\n",
    "            employee = { \n",
    "                \"Name\" : li_tag.text, \n",
    "                \"Department\" : h3_tags[tag_index].text,\n",
    "                \"Email\" : get_email_from_li(li_tag)\n",
    "            }\n",
    "            employees.append(employee)\n",
    "        tag_index+=1 \n",
    "    return employees\n"
   ]
  },
  {
   "cell_type": "code",
   "execution_count": 60,
   "metadata": {},
   "outputs": [
    {
     "data": {
      "text/html": [
       "<div>\n",
       "<style scoped>\n",
       "    .dataframe tbody tr th:only-of-type {\n",
       "        vertical-align: middle;\n",
       "    }\n",
       "\n",
       "    .dataframe tbody tr th {\n",
       "        vertical-align: top;\n",
       "    }\n",
       "\n",
       "    .dataframe thead th {\n",
       "        text-align: right;\n",
       "    }\n",
       "</style>\n",
       "<table border=\"1\" class=\"dataframe\">\n",
       "  <thead>\n",
       "    <tr style=\"text-align: right;\">\n",
       "      <th></th>\n",
       "      <th>Department</th>\n",
       "      <th>Email</th>\n",
       "      <th>Name</th>\n",
       "    </tr>\n",
       "  </thead>\n",
       "  <tbody>\n",
       "    <tr>\n",
       "      <th>0</th>\n",
       "      <td>Customer Service</td>\n",
       "      <td>bbarion@fudgemart.com</td>\n",
       "      <td>Barb Barion</td>\n",
       "    </tr>\n",
       "    <tr>\n",
       "      <th>1</th>\n",
       "      <td>Customer Service</td>\n",
       "      <td>rdebote@fudgemart.com</td>\n",
       "      <td>Rowan Debote</td>\n",
       "    </tr>\n",
       "    <tr>\n",
       "      <th>2</th>\n",
       "      <td>Customer Service</td>\n",
       "      <td>sshores@fudgemart.com</td>\n",
       "      <td>Sandi Shores</td>\n",
       "    </tr>\n",
       "    <tr>\n",
       "      <th>3</th>\n",
       "      <td>Housewares</td>\n",
       "      <td>afresco@fudgemart.com</td>\n",
       "      <td>Al Fresco</td>\n",
       "    </tr>\n",
       "    <tr>\n",
       "      <th>4</th>\n",
       "      <td>Housewares</td>\n",
       "      <td>benweave@fudgemart.com</td>\n",
       "      <td>Bob Enweave</td>\n",
       "    </tr>\n",
       "    <tr>\n",
       "      <th>5</th>\n",
       "      <td>Electronics</td>\n",
       "      <td>cdababbi@fudgemart.com</td>\n",
       "      <td>Carrie Dababbi</td>\n",
       "    </tr>\n",
       "  </tbody>\n",
       "</table>\n",
       "</div>"
      ],
      "text/plain": [
       "         Department                   Email            Name\n",
       "0  Customer Service   bbarion@fudgemart.com     Barb Barion\n",
       "1  Customer Service   rdebote@fudgemart.com    Rowan Debote\n",
       "2  Customer Service   sshores@fudgemart.com    Sandi Shores\n",
       "3        Housewares   afresco@fudgemart.com       Al Fresco\n",
       "4        Housewares  benweave@fudgemart.com     Bob Enweave\n",
       "5       Electronics  cdababbi@fudgemart.com  Carrie Dababbi"
      ]
     },
     "metadata": {},
     "output_type": "display_data"
    }
   ],
   "source": [
    "# and now it's trivial :-)\n",
    "employees = scrape_fudgemart_employees()\n",
    "data = pd.DataFrame(employees)\n",
    "display(data)"
   ]
  },
  {
   "cell_type": "code",
   "execution_count": null,
   "metadata": {},
   "outputs": [],
   "source": []
  }
 ],
 "metadata": {
  "kernelspec": {
   "display_name": "Python 3",
   "language": "python",
   "name": "python3"
  },
  "language_info": {
   "codemirror_mode": {
    "name": "ipython",
    "version": 3
   },
   "file_extension": ".py",
   "mimetype": "text/x-python",
   "name": "python",
   "nbconvert_exporter": "python",
   "pygments_lexer": "ipython3",
   "version": "3.6.5"
  }
 },
 "nbformat": 4,
 "nbformat_minor": 2
}
